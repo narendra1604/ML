{
 "cells": [
  {
   "cell_type": "code",
   "execution_count": null,
   "metadata": {},
   "outputs": [],
   "source": [
    "import tweepy\n",
    "from textblob import TextBlob\n",
    "\n",
    "# Twitter API credentials\n",
    "consumer_key = 'ZSTjRgpSwrcpgLDqTug1tnHVS'\n",
    "consumer_secret = '2mfFBHGIV0OT7b5LbgWrAbBhoyr3tB7GiGTtCGiz@pN8S9EFKv'\n",
    "access_token = '1014097837381111808-1ZmyTn9NwXhnlnH3rLJdjLg7WmwFTG'\n",
    "access_token_secret = 'siic7b529NpcGT8uwopjOaauSRZoUQd1N38mLL0gX2TLK'\n",
    "\n",
    "# Authenticate with Twitter API\n",
    "auth = tweepy.OAuthHandler(consumer_key, consumer_secret)\n",
    "auth.set_access_token(access_token, access_token_secret)\n",
    "api = tweepy.API(auth)\n",
    "\n",
    "# Search for tweets mentioning 'Donald Trump'\n",
    "public_tweets = api.search('Donald Trump')\n",
    "\n",
    "# Analyze sentiment for each tweet\n",
    "for tweet in public_tweets:\n",
    "    print(tweet.text)\n",
    "    analysis = TextBlob(tweet.text)\n",
    "    print(f'Sentiment: {analysis.sentiment}\\n')\n"
   ]
  },
  {
   "cell_type": "code",
   "execution_count": null,
   "metadata": {},
   "outputs": [],
   "source": []
  }
 ],
 "metadata": {
  "kernelspec": {
   "display_name": "Python 3",
   "language": "python",
   "name": "python3"
  },
  "language_info": {
   "codemirror_mode": {
    "name": "ipython",
    "version": 3
   },
   "file_extension": ".py",
   "mimetype": "text/x-python",
   "name": "python",
   "nbconvert_exporter": "python",
   "pygments_lexer": "ipython3",
   "version": "3.11.4"
  }
 },
 "nbformat": 4,
 "nbformat_minor": 2
}
